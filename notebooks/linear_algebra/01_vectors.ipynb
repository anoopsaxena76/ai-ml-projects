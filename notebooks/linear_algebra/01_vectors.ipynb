{
 "cells": [
  {
   "cell_type": "code",
   "execution_count": 4,
   "id": "d92bf46a-8143-4e56-ab54-96985378203a",
   "metadata": {},
   "outputs": [],
   "source": [
    "a = [1,2,3,4]\n",
    "b = list(range(6, 10))"
   ]
  },
  {
   "cell_type": "code",
   "execution_count": 5,
   "id": "60a14c15-03c9-440a-b22f-fb61c0c94d81",
   "metadata": {},
   "outputs": [],
   "source": [
    "import math"
   ]
  },
  {
   "cell_type": "code",
   "execution_count": 6,
   "id": "86b96953-fa1b-47a6-a313-7d7726cdd7be",
   "metadata": {},
   "outputs": [
    {
     "data": {
      "text/plain": [
       "[7, 9, 11, 13]"
      ]
     },
     "execution_count": 6,
     "metadata": {},
     "output_type": "execute_result"
    }
   ],
   "source": [
    "#Vector Addition)\n",
    "c = []\n",
    "for i in range (len(a)):\n",
    "    c.append(a[i]+b[i])\n",
    "c"
   ]
  },
  {
   "cell_type": "code",
   "execution_count": 12,
   "id": "b3668039-d49e-4bde-b5ad-96eeebe621a6",
   "metadata": {},
   "outputs": [
    {
     "name": "stdout",
     "output_type": "stream",
     "text": [
      "80\n",
      "80\n"
     ]
    }
   ],
   "source": [
    "#Vector dot product\n",
    "dot_prod = 0\n",
    "for i in range(len(a)):\n",
    "    dot_prod += a[i]*b[i]\n",
    "\n",
    "\n",
    "dot = sum(x * y for x, y in zip (a, b))\n",
    "print(dot_prod)\n",
    "print(dot)"
   ]
  },
  {
   "cell_type": "code",
   "execution_count": 14,
   "id": "998c5ca4-30d6-414b-abb7-78a4e6712232",
   "metadata": {},
   "outputs": [
    {
     "name": "stdout",
     "output_type": "stream",
     "text": [
      "80\n"
     ]
    }
   ],
   "source": [
    "import numpy as np\n",
    "print(np.dot(a, b))"
   ]
  },
  {
   "cell_type": "code",
   "execution_count": 18,
   "id": "2d016048-ec99-40c0-a89c-9ff178d6f569",
   "metadata": {},
   "outputs": [
    {
     "name": "stdout",
     "output_type": "stream",
     "text": [
      "5.477225575051661\n",
      "15.165750888103101\n"
     ]
    }
   ],
   "source": [
    "#Vector Norm\n",
    "norm_a, norm_b = 0.0, 0.0\n",
    "for elem1 in a:\n",
    "    norm_a += elem1**2\n",
    "for elem2 in b:\n",
    "    norm_b += elem2**2\n",
    "norm_a = math.sqrt(norm_a)\n",
    "norm_b = math.sqrt(norm_b)\n",
    "\n",
    "print(norm_a, norm_b)"
   ]
  },
  {
   "cell_type": "code",
   "execution_count": 19,
   "id": "bca2fdb7-4d74-4194-9cc6-89fe8cef7660",
   "metadata": {},
   "outputs": [
    {
     "name": "stdout",
     "output_type": "stream",
     "text": [
      "5.477225575051661 15.165750888103101\n"
     ]
    }
   ],
   "source": [
    "#usng numpy library\n",
    "norm_a1 = np.linalg.norm(a)\n",
    "norm_b1 = np.linalg.norm(b)\n",
    "print (norm_a1, norm_b1)"
   ]
  },
  {
   "cell_type": "code",
   "execution_count": null,
   "id": "401d0d94-c4fe-4c7a-92d6-2571fbd5b090",
   "metadata": {},
   "outputs": [],
   "source": []
  }
 ],
 "metadata": {
  "kernelspec": {
   "display_name": "Python (ai_gpu_env)",
   "language": "python",
   "name": "ai_gpu_env"
  },
  "language_info": {
   "codemirror_mode": {
    "name": "ipython",
    "version": 3
   },
   "file_extension": ".py",
   "mimetype": "text/x-python",
   "name": "python",
   "nbconvert_exporter": "python",
   "pygments_lexer": "ipython3",
   "version": "3.10.18"
  }
 },
 "nbformat": 4,
 "nbformat_minor": 5
}
